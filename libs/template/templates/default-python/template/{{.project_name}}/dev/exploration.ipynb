{
 "cells": [
  {
   "cell_type": "markdown",
   "metadata": {
    "application/vnd.databricks.v1+cell": {
     "cellMetadata": {},
     "inputWidgets": {},
     "nuid": "3b7c1294-3470-4f02-832d-d151afc3a15c",
     "showTitle": false,
     "title": ""
    }
   },
   "source": [
    "# Exploratory notebook for development"
   ]
  },
  {
   "cell_type": "code",
   "execution_count": null,
   "metadata": {
    "application/vnd.databricks.v1+cell": {
     "cellMetadata": {},
     "inputWidgets": {},
     "nuid": "f6e0c0dd-0c6a-4708-87a1-f2214992461f",
     "showTitle": false,
     "title": ""
    }
   },
   "outputs": [],
   "source": [
    "display(spark.range(10))"
   ]
  }
 ],
 "metadata": {
  "application/vnd.databricks.v1+notebook": {
   "dashboards": [
    {
     "elements": [
      {
       "dashboardResultIndex": 0,
       "elementNUID": "a52b9a4e-a148-4388-b147-7ee8aa736d6b",
       "elementType": "command",
       "guid": "3a51e874-3047-45fd-8a65-6f9a39078561",
       "options": {
        "autoScaleImg": false,
        "scale": 0,
        "showRunButton": false,
        "showTitle": true,
        "title": "Retention",
        "titleAlign": "center"
       },
       "position": {
        "height": 14,
        "width": 24,
        "x": 0,
        "y": 7,
        "z": null
       },
       "resultIndex": null
      },
      {
       "dashboardResultIndex": null,
       "elementNUID": "25bc3a38-0be4-4461-ae92-f4031d325f58",
       "elementType": "command",
       "guid": "bbe1034d-7432-4bd8-a99d-f7247e74e107",
       "options": {
        "autoScaleImg": false,
        "scale": 0,
        "showTitle": true,
        "title": "WAU",
        "titleAlign": "center"
       },
       "position": {
        "height": 7,
        "width": 24,
        "x": 0,
        "y": 0,
        "z": null
       },
       "resultIndex": null
      }
     ],
     "globalVars": {},
     "guid": "5d46776a-0568-470f-8b20-6c52d793dd63",
     "layoutOption": {
      "grid": true,
      "stack": true
     },
     "nuid": "a36708d8-d392-4320-ba39-dc6f9101fa64",
     "origId": 948590569380223,
     "title": "cohorts",
     "version": "DashboardViewV1",
     "width": 1024
    }
   ],
   "language": "sql",
   "notebookMetadata": {
    "pythonIndentUnit": 2
   },
   "notebookName": "exploration",
   "widgets": {}
  },
  "language_info": {
   "name": "python"
  }
 },
 "nbformat": 4,
 "nbformat_minor": 0
}
